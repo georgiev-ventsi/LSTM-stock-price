{
 "cells": [
  {
   "cell_type": "markdown",
   "id": "8d4de1d1",
   "metadata": {},
   "source": [
    "# Download data from \n",
    "https://coinmarketcap.com/currencies/cardano/historical-data/\n"
   ]
  },
  {
   "cell_type": "code",
   "execution_count": 1,
   "id": "77cc1ed2",
   "metadata": {},
   "outputs": [],
   "source": [
    "# main imports\n",
    "\n",
    "%matplotlib inline\n",
    "\n",
    "import pandas as pd\n",
    "import numpy as np\n",
    "import matplotlib.pyplot as plt\n",
    "import datetime as datetime\n"
   ]
  },
  {
   "cell_type": "code",
   "execution_count": 2,
   "id": "e7e20937",
   "metadata": {},
   "outputs": [
    {
     "data": {
      "text/html": [
       "<div>\n",
       "<style scoped>\n",
       "    .dataframe tbody tr th:only-of-type {\n",
       "        vertical-align: middle;\n",
       "    }\n",
       "\n",
       "    .dataframe tbody tr th {\n",
       "        vertical-align: top;\n",
       "    }\n",
       "\n",
       "    .dataframe thead th {\n",
       "        text-align: right;\n",
       "    }\n",
       "</style>\n",
       "<table border=\"1\" class=\"dataframe\">\n",
       "  <thead>\n",
       "    <tr style=\"text-align: right;\">\n",
       "      <th></th>\n",
       "      <th>Date</th>\n",
       "      <th>Open</th>\n",
       "      <th>High</th>\n",
       "      <th>Low</th>\n",
       "      <th>Close</th>\n",
       "      <th>Volume</th>\n",
       "      <th>Market Cap</th>\n",
       "    </tr>\n",
       "  </thead>\n",
       "  <tbody>\n",
       "    <tr>\n",
       "      <th>0</th>\n",
       "      <td>Nov 07, 2021</td>\n",
       "      <td>$2.01</td>\n",
       "      <td>$2.04</td>\n",
       "      <td>$1.98</td>\n",
       "      <td>$2.02</td>\n",
       "      <td>$1,871,914,235</td>\n",
       "      <td>$67,297,292,605</td>\n",
       "    </tr>\n",
       "    <tr>\n",
       "      <th>1</th>\n",
       "      <td>Nov 06, 2021</td>\n",
       "      <td>$1.99</td>\n",
       "      <td>$2.04</td>\n",
       "      <td>$1.95</td>\n",
       "      <td>$2.01</td>\n",
       "      <td>$1,883,049,324</td>\n",
       "      <td>$66,789,319,722</td>\n",
       "    </tr>\n",
       "    <tr>\n",
       "      <th>2</th>\n",
       "      <td>Nov 05, 2021</td>\n",
       "      <td>$1.98</td>\n",
       "      <td>$2.02</td>\n",
       "      <td>$1.96</td>\n",
       "      <td>$1.99</td>\n",
       "      <td>$2,274,851,985</td>\n",
       "      <td>$66,110,796,821</td>\n",
       "    </tr>\n",
       "    <tr>\n",
       "      <th>3</th>\n",
       "      <td>Nov 04, 2021</td>\n",
       "      <td>$2.06</td>\n",
       "      <td>$2.10</td>\n",
       "      <td>$1.96</td>\n",
       "      <td>$1.98</td>\n",
       "      <td>$3,301,214,469</td>\n",
       "      <td>$66,037,574,031</td>\n",
       "    </tr>\n",
       "    <tr>\n",
       "      <th>4</th>\n",
       "      <td>Nov 03, 2021</td>\n",
       "      <td>$1.97</td>\n",
       "      <td>$2.14</td>\n",
       "      <td>$1.95</td>\n",
       "      <td>$2.06</td>\n",
       "      <td>$4,722,705,987</td>\n",
       "      <td>$68,659,957,140</td>\n",
       "    </tr>\n",
       "  </tbody>\n",
       "</table>\n",
       "</div>"
      ],
      "text/plain": [
       "           Date   Open   High    Low  Close          Volume       Market Cap\n",
       "0  Nov 07, 2021  $2.01  $2.04  $1.98  $2.02  $1,871,914,235  $67,297,292,605\n",
       "1  Nov 06, 2021  $1.99  $2.04  $1.95  $2.01  $1,883,049,324  $66,789,319,722\n",
       "2  Nov 05, 2021  $1.98  $2.02  $1.96  $1.99  $2,274,851,985  $66,110,796,821\n",
       "3  Nov 04, 2021  $2.06  $2.10  $1.96  $1.98  $3,301,214,469  $66,037,574,031\n",
       "4  Nov 03, 2021  $1.97  $2.14  $1.95  $2.06  $4,722,705,987  $68,659,957,140"
      ]
     },
     "execution_count": 2,
     "metadata": {},
     "output_type": "execute_result"
    }
   ],
   "source": [
    "# read main data from local CSV\n",
    "data = pd.read_csv('ADA_Cardano-365-days-fom-07.11.20.csv')\n",
    "data.head()"
   ]
  },
  {
   "cell_type": "code",
   "execution_count": 3,
   "id": "da8b2c06",
   "metadata": {},
   "outputs": [
    {
     "data": {
      "text/plain": [
       "Date          object\n",
       "Open          object\n",
       "High          object\n",
       "Low           object\n",
       "Close         object\n",
       "Volume        object\n",
       "Market Cap    object\n",
       "dtype: object"
      ]
     },
     "execution_count": 3,
     "metadata": {},
     "output_type": "execute_result"
    }
   ],
   "source": [
    "data.dtypes"
   ]
  },
  {
   "cell_type": "code",
   "execution_count": 4,
   "id": "41a28f64",
   "metadata": {},
   "outputs": [],
   "source": [
    "def trim_and_float(value):\n",
    "    return value.str[1:].astype(float)\n"
   ]
  },
  {
   "cell_type": "code",
   "execution_count": 5,
   "id": "8f824294",
   "metadata": {},
   "outputs": [
    {
     "data": {
      "text/plain": [
       "Index(['Date', 'Open', 'High', 'Low', 'Close', 'Volume', 'Market Cap'], dtype='object')"
      ]
     },
     "execution_count": 5,
     "metadata": {},
     "output_type": "execute_result"
    }
   ],
   "source": [
    "data.columns"
   ]
  },
  {
   "cell_type": "code",
   "execution_count": 6,
   "id": "0935ed37",
   "metadata": {},
   "outputs": [
    {
     "name": "stdout",
     "output_type": "stream",
     "text": [
      "0      2.0200\n",
      "1      2.0100\n",
      "2      1.9900\n",
      "3      1.9800\n",
      "4      2.0600\n",
      "        ...  \n",
      "359    0.1064\n",
      "360    0.1045\n",
      "361    0.1060\n",
      "362    0.1058\n",
      "363    0.1053\n",
      "Name: Close, Length: 364, dtype: float64\n"
     ]
    }
   ],
   "source": [
    "data.Open = trim_and_float(data.Open)\n",
    "data.High = trim_and_float(data.High)\n",
    "data.Low = trim_and_float(data.Low)\n",
    "data.Close = trim_and_float(data.Close)\n",
    "print(data.Close)"
   ]
  },
  {
   "cell_type": "code",
   "execution_count": 7,
   "id": "b8f9b2a0",
   "metadata": {},
   "outputs": [
    {
     "data": {
      "text/plain": [
       "0      Nov 07, 2021\n",
       "1      Nov 06, 2021\n",
       "2      Nov 05, 2021\n",
       "3      Nov 04, 2021\n",
       "4      Nov 03, 2021\n",
       "           ...     \n",
       "359    Nov 13, 2020\n",
       "360    Nov 12, 2020\n",
       "361    Nov 11, 2020\n",
       "362    Nov 10, 2020\n",
       "363    Nov 09, 2020\n",
       "Name: Date, Length: 364, dtype: object"
      ]
     },
     "execution_count": 7,
     "metadata": {},
     "output_type": "execute_result"
    }
   ],
   "source": [
    "data.Date"
   ]
  },
  {
   "cell_type": "code",
   "execution_count": 8,
   "id": "b292e829",
   "metadata": {},
   "outputs": [
    {
     "data": {
      "text/plain": [
       "Date\n",
       "2021-11-07   2021-11-07\n",
       "2021-11-06   2021-11-06\n",
       "2021-11-05   2021-11-05\n",
       "2021-11-04   2021-11-04\n",
       "2021-11-03   2021-11-03\n",
       "                ...    \n",
       "2020-11-13   2020-11-13\n",
       "2020-11-12   2020-11-12\n",
       "2020-11-11   2020-11-11\n",
       "2020-11-10   2020-11-10\n",
       "2020-11-09   2020-11-09\n",
       "Name: Date, Length: 364, dtype: datetime64[ns]"
      ]
     },
     "execution_count": 8,
     "metadata": {},
     "output_type": "execute_result"
    }
   ],
   "source": [
    "data[\"Date\"]=pd.to_datetime(data.Date)\n",
    "data.index=data['Date']\n",
    "\n",
    "data.Date"
   ]
  },
  {
   "cell_type": "code",
   "execution_count": 10,
   "id": "b76b769d",
   "metadata": {},
   "outputs": [
    {
     "name": "stdout",
     "output_type": "stream",
     "text": [
      "<class 'pandas.core.frame.DataFrame'>\n",
      "DatetimeIndex: 364 entries, 2021-11-07 to 2020-11-09\n",
      "Data columns (total 7 columns):\n",
      " #   Column      Non-Null Count  Dtype         \n",
      "---  ------      --------------  -----         \n",
      " 0   Date        364 non-null    datetime64[ns]\n",
      " 1   Open        364 non-null    float64       \n",
      " 2   High        364 non-null    float64       \n",
      " 3   Low         364 non-null    float64       \n",
      " 4   Close       364 non-null    float64       \n",
      " 5   Volume      364 non-null    object        \n",
      " 6   Market Cap  364 non-null    object        \n",
      "dtypes: datetime64[ns](1), float64(4), object(2)\n",
      "memory usage: 22.8+ KB\n"
     ]
    }
   ],
   "source": [
    "data.info()"
   ]
  },
  {
   "cell_type": "code",
   "execution_count": 13,
   "id": "7e350f90",
   "metadata": {},
   "outputs": [
    {
     "data": {
      "image/png": "[encoded data removed]",
      "text/plain": [
       "<Figure size 1152x576 with 1 Axes>"
      ]
     },
     "metadata": {
      "needs_background": "light"
     },
     "output_type": "display_data"
    }
   ],
   "source": [
    "# Plot the Close price by Dte\n",
    "\n",
    "plt.figure(figsize=(16,8))\n",
    "plt.plot(data[\"Close\"], label='Close Price history')\n",
    "plt.title('Close Price history')\n",
    "plt.xlabel('Date')\n",
    "plt.ylabel('Close price in USD, $')\n",
    "plt.show()"
   ]
  }
 ],
 "metadata": {
  "interpreter": {
   "hash": "8b794151945234b3d3e1bcfc898f6843d33f870cbf2918f882b0cae49b98ae91"
  },
  "kernelspec": {
   "display_name": "Python 3 (ipykernel)",
   "language": "python",
   "name": "python3"
  },
  "language_info": {
   "codemirror_mode": {
    "name": "ipython",
    "version": 3
   },
   "file_extension": ".py",
   "mimetype": "text/x-python",
   "name": "python",
   "nbconvert_exporter": "python",
   "pygments_lexer": "ipython3",
   "version": "3.8.12"
  }
 },
 "nbformat": 4,
 "nbformat_minor": 5
}
